{
 "cells": [
  {
   "cell_type": "code",
   "execution_count": null,
   "metadata": {},
   "outputs": [
    {
     "name": "stdout",
     "output_type": "stream",
     "text": [
      "\n",
      "    (a) scan for products with apple\n",
      "    (b) scan for products with banana\n",
      "    (c) scan for products with cabbage\n",
      "    (d) scan for products with milk\n",
      "    (e) find how many products had ingredient list missing\n",
      "    (f) find the product categories with of products without ingredient lists\n",
      "    (g) enter an ingredient to scan for products (just something I want to try for practice)\n",
      "    (h) exit\n",
      "    \n",
      "Please Select an Option: a\n",
      "(a): the following products include APPLE: \n",
      "\n",
      "    (a) scan for products with apple\n",
      "    (b) scan for products with banana\n",
      "    (c) scan for products with cabbage\n",
      "    (d) scan for products with milk\n",
      "    (e) find how many products had ingredient list missing\n",
      "    (f) find the product categories with of products without ingredient lists\n",
      "    (g) enter an ingredient to scan for products (just something I want to try for practice)\n",
      "    (h) exit\n",
      "    \n"
     ]
    }
   ],
   "source": [
    "#import pandas library\n",
    "import pandas as pd\n",
    "#import freshdirect data\n",
    "fdData = pd.read_csv('2018-09-21Freshdirect_data_file - 2018-09-21Freshdirect_data_file.csv')\n",
    "#since the table is large, I created a menu to pick what is desired\n",
    "inMenu = True\n",
    "while inMenu:\n",
    "    print(\"\"\"\n",
    "    (a) scan for products with apple\n",
    "    (b) scan for products with banana\n",
    "    (c) scan for products with cabbage\n",
    "    (d) scan for products with milk\n",
    "    (e) find how many products had ingredient list missing\n",
    "    (f) find the product categories with of products without ingredient lists\n",
    "    (g) enter an ingredient to scan for products (just something I want to try for practice)\n",
    "    (h) exit\n",
    "    \"\"\")\n",
    "    answer = input(\"Please Select an Option: \")\n",
    "    if answer == 'a':\n",
    "        print (\"(a): the following products include APPLE: \")\n",
    "        #selects ingredient list column of fdData, checks for substring 'apple', removes NA values from consideration, and returns a view of appropriate recods \n",
    "        fdData[fdData['Ingredient_List'].str.contains('apple', na = False)]\n",
    "    elif answer == 'b':\n",
    "        print (\"(b): the following products include BANANA: \")\n",
    "        fdData[fdData['Ingredient_List'].str.contains('banana', na = False)]\n",
    "    elif answer == 'c':\n",
    "        print (\"(c): the following products include CABBAGE: \")\n",
    "        fdData[fdData['Ingredient_List'].str.contains('cabbage', na = False)]\n",
    "    elif answer == 'd':\n",
    "        print (\"(d): the following products include MILK: \")\n",
    "        fdData[fdData['Ingredient_List'].str.contains('milk', na = False)]    \n",
    "    elif answer == 'e':\n",
    "        #number missing ingredients = # total entries in data - # with ingredients\n",
    "        numMissingIng = len(fdData)-fdData['Ingredient_List'].count()\n",
    "        print (\"(e): the number of products without an ingredient list is : \",numMissingIng)\n",
    "    elif answer == 'f':\n",
    "        #ask for guidance for this question\n",
    "        print (\"\")\n",
    "        #new array for categories\n",
    "        #missingIngredCateg = []\n",
    "        #print (\"(f): the product categories with products missing their ingredient lists are: \", missingIngredCateg)\n",
    "    elif answer == 'g':\n",
    "        search = input(\"Please enter an ingredient to search for: \")\n",
    "        print (\"(g): the following products include \",search)\n",
    "        fdData[fdData['Ingredient_List'].str.contains(search, na = False)] \n",
    "    elif answer == 'h':\n",
    "        #exit the menu\n",
    "        break\n",
    "    else:\n",
    "        print (\"unknown input, please try again\")\n",
    "        \n"
   ]
  },
  {
   "cell_type": "code",
   "execution_count": null,
   "metadata": {
    "collapsed": true
   },
   "outputs": [],
   "source": []
  },
  {
   "cell_type": "code",
   "execution_count": null,
   "metadata": {
    "collapsed": true
   },
   "outputs": [],
   "source": []
  }
 ],
 "metadata": {
  "kernelspec": {
   "display_name": "Python 3",
   "language": "python",
   "name": "python3"
  }
 },
 "nbformat": 4,
 "nbformat_minor": 2
}
