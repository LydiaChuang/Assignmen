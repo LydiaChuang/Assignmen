{
 "cells": [
  {
   "cell_type": "code",
   "execution_count": null,
   "metadata": {},
   "outputs": [],
   "source": [
    "#import pandas library\n",
    "import pandas as pd\n",
    "#import pokemon data\n",
    "#considering getting rid of all altered form pokemon by removing all entries with spaces in their name\n",
    "pkData = pd.read_csv('Pokemon - Pokemon.csv')\n",
    "#since the table is large, I created a menu to pick what is desired\n",
    "inMenu = True\n",
    "while inMenu:\n",
    "    print(\"\"\"\n",
    "    (a) list all legendary pokemon\n",
    "    (b) list pokemon with type 1 as fire\n",
    "    (c) list the 10 highest and lowest hp pokemon\n",
    "    (i) list pokemon sorted by total stats alphabetically (top pokemon)\n",
    "    (x) exit\n",
    "    \"\"\")\n",
    "    answer = input(\"Please Select an Option: \")\n",
    "    if answer == 'a':\n",
    "        print (\"(a) the following pokemon are LEGENDARY\")\n",
    "        pkData[pkData['Legendary']==True]\n",
    "    elif answer == 'b':\n",
    "        print (\"(b) the following pokemon are primarily FIRE type\")\n",
    "        pkData[pkData['Type 1']=='Fire']\n",
    "    elif answer == 'c':\n",
    "        print (\"(c) the following are the top 10 highest health pokemon\")\n",
    "        pkData.sort_values(by=['HP','Name'], ascending=[False,True])[0:10]\n",
    "        print (\"(c) the following are the top 10 lowest health pokemon\")\n",
    "        pkData.sort_values(by=['HP','Name'], ascending=[True,True])[0:10]\n",
    "    elif answer == 'i':\n",
    "        print (\"(i) showing the top 20 pokemon by total stats alphabetically\")\n",
    "        pkData.sort_values(by=['Total','Name'], ascending=[False,True])[0:20]\n",
    "    elif answer == 'x':\n",
    "        break\n",
    "    else:\n",
    "        print (\"unknown input, please try again\")"
   ]
  }
 ],
 "metadata": {
  "kernelspec": {
   "display_name": "Python 3",
   "language": "python",
   "name": "python3"
  },
  "language_info": {
   "codemirror_mode": {
    "name": "ipython",
    "version": 3
   },
   "file_extension": ".py",
   "mimetype": "text/x-python",
   "name": "python",
   "nbconvert_exporter": "python",
   "pygments_lexer": "ipython3",
   "version": "3.6.3"
  }
 },
 "nbformat": 4,
 "nbformat_minor": 2
}
